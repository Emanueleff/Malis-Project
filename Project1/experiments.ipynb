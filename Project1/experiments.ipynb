{
 "cells": [
  {
   "cell_type": "markdown",
   "id": "b645da4b-3c6a-4d00-98e6-bf9530bba0ef",
   "metadata": {},
   "source": [
    "Use this notebook to run experiments and plot results easily. You do not need to submit it, but you may use some of the generated plots in your report."
   ]
  },
  {
   "cell_type": "code",
   "execution_count": 1,
   "id": "ebcb15a0-3758-47b0-baf7-32a665842aa3",
   "metadata": {},
   "outputs": [],
   "source": [
    "import utils\n",
    "import numpy as np\n",
    "import matplotlib.pyplot as plt\n",
    "import pandas as pd\n",
    "import knn\n"
   ]
  },
  {
   "cell_type": "markdown",
   "id": "0ded6b3b-1ccd-4665-bb1c-4e3450a794b9",
   "metadata": {},
   "source": [
    "You can use the routine below to plot your results. Be careful to respect the naming conventions of the variables. This means X - training inputs, y - training labels, X_test - test inputs and y_test - predicted labels"
   ]
  },
  {
   "cell_type": "code",
   "execution_count": 10,
   "id": "c89abfe0-d30e-4bd9-9cc6-e93600a75024",
   "metadata": {},
   "outputs": [],
   "source": [
    "# Create a grid of testing points\n",
    "h=0.5 # space in the grid\n",
    "\n",
    "training_set = pd.read_csv(\"./training.csv\")\n",
    "X = training_set[[\"X1\",\"X2\"]].values\n",
    "y = training_set[\"y\"].values.astype(int)\n",
    "y = np.reshape(y, (y.size,1)).T\n",
    "\n",
    "x_min, x_max = 0,100 #X[:, 0].min() - 1, X[:, 0].max() + 1\n",
    "y_min, y_max = 0,100 #X[:, 1].min() - 1, X[:, 1].max() + 1\n",
    "\n",
    "#xx is the x-axis coordinate of the points in the test set\n",
    "#yy is the y-axis coordinate of the points in the test set\n",
    "xx, yy = np.meshgrid(np.arange(x_min, x_max, h),\n",
    "                     np.arange(y_min, y_max, h))\n",
    "#X_test contains the test set inputs (xx,yy)\n",
    "X_test = np.c_[xx.ravel(), yy.ravel()]\n",
    "\n",
    "k=23\n",
    "p=5\n",
    "\n",
    "model = knn.KNN(k)\n",
    "model.train(X,y)\n",
    "y_test_k3 = model.predict(X_test,5)\n",
    "y_test_k3 = y_test_k3.reshape(xx.shape)"
   ]
  },
  {
   "cell_type": "code",
   "execution_count": 5,
   "id": "e820e1ec-44e0-4b7a-902b-ff553da88291",
   "metadata": {},
   "outputs": [
    {
     "data": {
      "image/png": "[encoded data removed]",
      "text/plain": [
       "<Figure size 500x500 with 1 Axes>"
      ]
     },
     "metadata": {},
     "output_type": "display_data"
    }
   ],
   "source": [
    "utils.plot_results(xx,yy, X, y, y_test_k3, \"k=\" + str(k))"
   ]
  }
 ],
 "metadata": {
  "kernelspec": {
   "display_name": "Python 3 (ipykernel)",
   "language": "python",
   "name": "python3"
  },
  "language_info": {
   "codemirror_mode": {
    "name": "ipython",
    "version": 3
   },
   "file_extension": ".py",
   "mimetype": "text/x-python",
   "name": "python",
   "nbconvert_exporter": "python",
   "pygments_lexer": "ipython3",
   "version": "3.8.18"
  }
 },
 "nbformat": 4,
 "nbformat_minor": 5
}
