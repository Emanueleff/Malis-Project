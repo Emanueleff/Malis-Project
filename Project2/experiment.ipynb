{
 "cells": [
  {
   "cell_type": "code",
   "execution_count": 5,
   "metadata": {},
   "outputs": [],
   "source": [
    "from sklearn.datasets import load_digits\n",
    "from sklearn.model_selection import train_test_split\n",
    "from sklearn.linear_model import Perceptron as P\n",
    "import pandas as pd\n",
    "import numpy as np\n",
    "from perceptron import Perceptron"
   ]
  },
  {
   "cell_type": "code",
   "execution_count": 6,
   "metadata": {},
   "outputs": [
    {
     "name": "stdout",
     "output_type": "stream",
     "text": [
      "(360, 64)\n",
      "(360,)\n",
      "(216, 64)\n",
      "(72, 64)\n",
      "(72, 64)\n"
     ]
    }
   ],
   "source": [
    "[X, y] = load_digits(n_class=2, return_X_y=True)\n",
    "\n",
    "print(X.shape)\n",
    "print(y.shape)\n",
    "y[y==0] = -1\n",
    "\n",
    "#Split in training and test in 60-20-20\n",
    "X_train, X_test_val, y_train, y_test_val = train_test_split(X, y, train_size=0.6, random_state=10)\n",
    "X_val, X_test, y_val, y_test = train_test_split(X_test_val, y_test_val, train_size=0.5, random_state=10)\n",
    "\n",
    "#check the result obtained\n",
    "print(X_train.shape)\n",
    "print(X_val.shape)\n",
    "print(X_test.shape)"
   ]
  },
  {
   "cell_type": "code",
   "execution_count": 8,
   "metadata": {},
   "outputs": [
    {
     "name": "stdout",
     "output_type": "stream",
     "text": [
      "[-1 -1  1 -1  1  1 -1 -1  1 -1  1  1  1  1 -1  1  1  1 -1 -1  1  1  1 -1\n",
      "  1  1  1  1  1  1  1  1  1  1  1  1  1 -1  1 -1 -1  1  1  1 -1  1 -1 -1\n",
      " -1 -1  1  1 -1 -1  1  1 -1  1  1 -1  1 -1  1  1 -1 -1  1 -1  1 -1  1 -1]\n",
      "100.0\n",
      "[ True  True  True  True  True  True  True  True  True  True  True  True\n",
      "  True  True  True  True  True  True  True  True  True  True  True  True\n",
      "  True  True  True  True  True  True  True  True  True  True  True  True\n",
      "  True  True  True  True  True  True  True  True  True  True  True  True\n",
      "  True  True  True  True  True  True  True  True  True  True  True  True\n",
      "  True  True  True  True  True  True  True  True  True  True  True  True]\n"
     ]
    }
   ],
   "source": [
    "\n",
    "model = Perceptron(X_train, y_train)\n",
    "model.train(0.0001)\n",
    "\n",
    "y_hat = model.predict(X_val)\n",
    "print(y_hat)\n",
    "acc = np.sum(y_hat == y_val)/y_val.size * 100\n",
    "print(acc)\n",
    "\n",
    "\n",
    "example = P(alpha=0.0001)\n",
    "example.fit(X_train,y_train)\n",
    "y_ex = example.predict(X_val)\n",
    "\n",
    "equal = y_ex == y_hat\n",
    "print(equal)"
   ]
  }
 ],
 "metadata": {
  "kernelspec": {
   "display_name": "malis",
   "language": "python",
   "name": "python3"
  },
  "language_info": {
   "codemirror_mode": {
    "name": "ipython",
    "version": 3
   },
   "file_extension": ".py",
   "mimetype": "text/x-python",
   "name": "python",
   "nbconvert_exporter": "python",
   "pygments_lexer": "ipython3",
   "version": "3.8.18"
  }
 },
 "nbformat": 4,
 "nbformat_minor": 2
}
