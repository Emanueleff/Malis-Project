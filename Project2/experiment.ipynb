{
 "cells": [
  {
   "cell_type": "code",
   "execution_count": 108,
   "metadata": {},
   "outputs": [],
   "source": [
    "from sklearn.datasets import load_digits\n",
    "from sklearn.model_selection import train_test_split\n",
    "from sklearn.linear_model import Perceptron as PerceptronSci\n",
    "import numpy as np\n",
    "from perceptron import Perceptron"
   ]
  },
  {
   "cell_type": "code",
   "execution_count": 109,
   "metadata": {},
   "outputs": [
    {
     "name": "stdout",
     "output_type": "stream",
     "text": [
      "(216, 64)\n",
      "(72, 64)\n",
      "(72, 64)\n"
     ]
    }
   ],
   "source": [
    "[X, y] = load_digits(n_class=2, return_X_y=True)\n",
    "\n",
    "#print(X.shape)\n",
    "#print(y.shape)\n",
    "y[y==0] = -1\n",
    "\n",
    "#Split in training and test in 60-20-20\n",
    "X_train, X_test_val, y_train, y_test_val = train_test_split(X, y, train_size=0.6, random_state=4, shuffle=True)\n",
    "X_val, X_test, y_val, y_test = train_test_split(X_test_val, y_test_val, train_size=0.5, random_state=4, shuffle=True)\n",
    "\n",
    "#check the result obtained\n",
    "print(X_train.shape)\n",
    "print(X_val.shape)\n",
    "print(X_test.shape)"
   ]
  },
  {
   "cell_type": "code",
   "execution_count": 110,
   "metadata": {},
   "outputs": [
    {
     "name": "stdout",
     "output_type": "stream",
     "text": [
      "Accuracy: 100.0\n",
      "[ 1  1  1 -1  1 -1  1  1 -1 -1  1 -1 -1 -1  1 -1 -1 -1 -1 -1  1  1  1  1\n",
      "  1 -1  1  1  1  1 -1 -1 -1 -1 -1  1 -1  1  1 -1 -1 -1 -1  1  1  1  1  1\n",
      "  1  1  1 -1  1  1 -1 -1 -1  1 -1  1  1  1  1  1 -1  1 -1  1  1 -1 -1  1]\n",
      "[ 1  1  1 -1  1 -1  1  1 -1 -1  1 -1 -1 -1  1 -1 -1 -1 -1 -1  1  1  1  1\n",
      "  1 -1  1  1  1  1 -1 -1 -1 -1 -1  1 -1  1  1 -1 -1 -1 -1  1  1  1  1  1\n",
      "  1  1  1 -1  1  1 -1 -1 -1  1 -1  1  1  1  1  1 -1  1 -1  1  1 -1 -1  1]\n",
      "[ True  True  True  True  True  True  True  True  True  True  True  True\n",
      "  True  True  True  True  True  True  True  True  True  True  True  True\n",
      "  True  True  True  True  True  True  True  True  True  True  True  True\n",
      "  True  True  True  True  True  True  True  True  True  True  True  True\n",
      "  True  True  True  True  True  True  True  True  True  True  True  True\n",
      "  True  True  True  True  True  True  True  True  True  True  True  True]\n",
      "The results are equal: True\n"
     ]
    }
   ],
   "source": [
    "alpha = 0.0001\n",
    "\n",
    "# Training our model\n",
    "model = Perceptron(alpha=alpha)\n",
    "model.train(X_train, y_train, False)\n",
    "\n",
    "# Prediction with our model\n",
    "y_hat = model.predict(X_val)\n",
    "#print(y_hat)\n",
    "\n",
    "# Accuracy esteem\n",
    "acc = np.sum(y_hat == y_val)/y_val.size * 100\n",
    "print(f'Accuracy: {acc}')\n",
    "\n",
    "# Training and prediction with scikit perceptron model\n",
    "example = PerceptronSci(alpha=alpha)\n",
    "example.fit(X_train,y_train)\n",
    "y_ex = example.predict(X_val)\n",
    "\n",
    "# Check the results are the same\n",
    "equal = y_ex == y_hat\n",
    "print(y_ex)\n",
    "print(y_hat)\n",
    "print(equal)\n",
    "print(f'The results are equal: {not equal[equal==False].size}')"
   ]
  },
  {
   "cell_type": "markdown",
   "metadata": {},
   "source": [
    "Testing the model with different alphas to see if there is any change in the speed of convergence."
   ]
  },
  {
   "cell_type": "code",
   "execution_count": 111,
   "metadata": {},
   "outputs": [
    {
     "name": "stdout",
     "output_type": "stream",
     "text": [
      "100.00000000000001\n",
      "The results are equal: False\n",
      "Acc: 1.0\n",
      "Acc Ex: 0.9861111111111112\n"
     ]
    }
   ],
   "source": [
    "import time\n",
    "from sklearn.metrics import accuracy_score\n",
    "\n",
    "alpha = 0.00001\n",
    "alpha = np.array([(0.00001 * (10 ** i)) for i in range(8)])\n",
    "datas = []\n",
    "max_acc = -1\n",
    "max_margin = -1\n",
    "\n",
    "for i in alpha:\n",
    "        model = Perceptron(alpha=i)   \n",
    "        model.train(X_train, y_train, False)\n",
    "        y_hat = model.predict(X_val)\n",
    "        acc = accuracy_score(y_val, y_hat)\n",
    "        margin = model.computeMargin()\n",
    "\n",
    "        if(acc>=max_acc):\n",
    "                if(margin>max_margin):\n",
    "                        max_acc=acc\n",
    "                        max_margin=margin\n",
    "                        param = i\n",
    "\n",
    "\n",
    "print(param)\n",
    "best_model = Perceptron(param)\n",
    "best_model.train(X_train, y_train, False)\n",
    "y_hat = best_model.predict(X_test)\n",
    "acc = accuracy_score(y_test, y_hat)\n",
    "\n",
    "# Training and prediction with scikit perceptron model\n",
    "example = PerceptronSci(alpha=param)\n",
    "example.fit(X_train,y_train)\n",
    "y_ex = example.predict(X_test)\n",
    "acc_ex = accuracy_score(y_test, y_ex)\n",
    "equal = y_ex == y_hat\n",
    "print(f'The results are equal: {not equal[equal==False].size}')\n",
    "\n",
    "print(\"Acc: \"+str(acc))\n",
    "print(\"Acc Ex: \"+str(acc_ex))\n",
    "        \n",
    "\n",
    "\n",
    "\n",
    "\n",
    "\n"
   ]
  },
  {
   "cell_type": "markdown",
   "metadata": {},
   "source": [
    "Nothing heavely remarkable has been noted, but alpha too low takes a lot more time!"
   ]
  }
 ],
 "metadata": {
  "kernelspec": {
   "display_name": "malis",
   "language": "python",
   "name": "python3"
  },
  "language_info": {
   "codemirror_mode": {
    "name": "ipython",
    "version": 3
   },
   "file_extension": ".py",
   "mimetype": "text/x-python",
   "name": "python",
   "nbconvert_exporter": "python",
   "pygments_lexer": "ipython3",
   "version": "3.8.18"
  }
 },
 "nbformat": 4,
 "nbformat_minor": 2
}
