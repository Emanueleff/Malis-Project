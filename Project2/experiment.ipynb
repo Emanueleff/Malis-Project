{
 "cells": [
  {
   "cell_type": "code",
   "execution_count": 1,
   "metadata": {},
   "outputs": [],
   "source": [
    "from sklearn.datasets import load_digits\n",
    "from sklearn.model_selection import train_test_split\n",
    "from sklearn.linear_model import Perceptron as PerceptronSci\n",
    "import numpy as np\n",
    "from perceptron import Perceptron"
   ]
  },
  {
   "cell_type": "code",
   "execution_count": 2,
   "metadata": {},
   "outputs": [
    {
     "name": "stdout",
     "output_type": "stream",
     "text": [
      "(216, 64)\n",
      "(72, 64)\n",
      "(72, 64)\n"
     ]
    }
   ],
   "source": [
    "[X, y] = load_digits(n_class=2, return_X_y=True)\n",
    "\n",
    "#print(X.shape)\n",
    "#print(y.shape)\n",
    "y[y==0] = -1\n",
    "\n",
    "#Split in training and test in 60-20-20\n",
    "X_train, X_test_val, y_train, y_test_val = train_test_split(X, y, train_size=0.6, random_state=4, shuffle=True)\n",
    "X_val, X_test, y_val, y_test = train_test_split(X_test_val, y_test_val, train_size=0.5, random_state=4, shuffle=True)\n",
    "\n",
    "#check the result obtained\n",
    "print(X_train.shape)\n",
    "print(X_val.shape)\n",
    "print(X_test.shape)"
   ]
  },
  {
   "cell_type": "code",
   "execution_count": 106,
   "metadata": {},
   "outputs": [
    {
     "name": "stdout",
     "output_type": "stream",
     "text": [
      "Accuracy: 100.0\n",
      "The results are equal to scikit: True\n"
     ]
    }
   ],
   "source": [
    "alpha = 0.0001\n",
    "\n",
    "# Training our model\n",
    "model = Perceptron(alpha=alpha)\n",
    "# We give an initial vector of all zeros as in the Scikit model\n",
    "model.train(X_train, y_train, np.zeros(X.shape[1]+1))\n",
    "\n",
    "# Prediction with our model\n",
    "y_hat = model.predict(X_val)\n",
    "\n",
    "# Accuracy esteem\n",
    "acc = np.sum(y_hat == y_val)/y_val.size * 100\n",
    "print(f'Accuracy: {acc}')\n",
    "\n",
    "# Training and prediction with scikit perceptron model\n",
    "example = PerceptronSci(alpha=alpha)\n",
    "example.fit(X_train,y_train)\n",
    "y_ex = example.predict(X_val)\n",
    "\n",
    "# Check the results are the same\n",
    "equal = y_ex == y_hat\n",
    "# print(y_ex)\n",
    "# print(y_hat)\n",
    "# print(equal)\n",
    "print(f'The results are equal to scikit: {not equal[equal==False].size}')"
   ]
  },
  {
   "cell_type": "markdown",
   "metadata": {},
   "source": [
    "Testing the model with different alphas in order to find the best learning rate in terms of accuracy."
   ]
  },
  {
   "cell_type": "code",
   "execution_count": 118,
   "metadata": {},
   "outputs": [
    {
     "name": "stdout",
     "output_type": "stream",
     "text": [
      "Model Parameters: \n",
      "Initial Weights: [0.79829887 0.3281217  0.32806239 0.83513697 0.26136951 0.23954936\n",
      " 0.19790026 0.09136825 0.66230664 0.32272208 0.26607804 0.84550964\n",
      " 0.84594516 0.36783387 0.53815849 0.57415441 0.25561208 0.20715675\n",
      " 0.16363421 0.93016632 0.985278   0.37145087 0.85739054 0.0528411\n",
      " 0.34536969 0.16196006 0.72126432 0.77999821 0.12914785 0.73638314\n",
      " 0.93794019 0.69093689 0.27468592 0.41009797 0.32687191 0.58062791\n",
      " 0.0089764  0.13270704 0.24971358 0.30395829 0.59999675 0.12195982\n",
      " 0.92572723 0.19198976 0.87860465 0.28861799 0.51735742 0.94787661\n",
      " 0.29141634 0.9602803  0.68963222 0.04684106 0.88525321 0.98849665\n",
      " 0.29972313 0.90654112 0.23984743 0.4226907  0.38275445 0.12479513\n",
      " 0.79871192 0.84047208 0.76126014 0.6753358  0.53521947]\n",
      "Current Weights: [ 0.73829887  0.3281217   0.32806239  0.27213697 -1.28563049 -0.58645064\n",
      "  0.59890026  0.26736825  0.66230664  0.32272208  0.08607804 -1.26149036\n",
      " -0.06705484  0.19583387 -0.49284151  0.56815441  0.25561208  0.21115675\n",
      " -0.43536579 -0.97583368  2.257278    2.25145087 -0.55360946 -0.5751589\n",
      "  0.34536969  0.16396006 -0.07873568 -0.43800179  1.93414785  2.87138314\n",
      "  0.00594019 -0.60706311  0.27468592  0.41009797 -0.70212809 -0.75437209\n",
      "  1.6069764   2.21570704 -0.68728642 -1.11804171  0.59999675  0.12195982\n",
      "  0.26572723 -1.87001024  2.07760465  2.00661799 -0.87464258 -0.23012339\n",
      "  0.29141634  0.9602803   0.52363222 -2.10715894  0.42125321  0.82849665\n",
      " -1.26127687  0.66654112  0.33084743  0.4226907   0.38075445 -0.47120487\n",
      " -0.80628808 -0.08552792  0.90526014  1.0233358   0.74521947]\n",
      "Learning Rate: 0.001\n",
      "Accuracy of our model: 1.0\n",
      "Accuracy of scikit: 0.9861111111111112\n"
     ]
    }
   ],
   "source": [
    "from sklearn.metrics import accuracy_score\n",
    "\n",
    "alpha = 0.00001\n",
    "alpha = np.array([(0.00001 * (10 ** i)) for i in range(8)])\n",
    "datas = []\n",
    "max_acc = -1\n",
    "max_margin = -1\n",
    "initial_w = None\n",
    "#validation\n",
    "for i in alpha:\n",
    "        model = Perceptron(alpha=i)   \n",
    "        model.train(X_train, y_train, initial_w)\n",
    "        y_hat = model.predict(X_val)\n",
    "        acc = accuracy_score(y_val, y_hat)\n",
    "        margin = model.computeMargin()\n",
    "        \n",
    "        if(acc>=max_acc):\n",
    "                if(margin>max_margin):\n",
    "                        max_acc=acc\n",
    "                        max_margin=margin\n",
    "                        best_alpha = i\n",
    "                        initial_w = model.initial_weights\n",
    "\n",
    "# Prediction on the test \n",
    "best_model = Perceptron(best_alpha)\n",
    "best_model.train(X_train, y_train, initial_weights=initial_w)\n",
    "y_hat = best_model.predict(X_test)\n",
    "acc = accuracy_score(y_test, y_hat)\n",
    "\n",
    "best_model.printParams()\n",
    "\n",
    "# Training and prediction with scikit perceptron model\n",
    "example = PerceptronSci(alpha=best_alpha)\n",
    "example.fit(X_train,y_train)\n",
    "y_ex = example.predict(X_test)\n",
    "\n",
    "acc_ex = accuracy_score(y_test, y_ex)\n",
    "#equal = y_ex == y_hat\n",
    "\n",
    "\n",
    "print(\"Accuracy of our model: \"+str(acc))\n",
    "print(\"Accuracy of scikit: \"+str(acc_ex))\n",
    "        "
   ]
  },
  {
   "cell_type": "markdown",
   "metadata": {},
   "source": [
    "Nothing heavely remarkable has been noted, but alpha too low takes a lot more time!"
   ]
  }
 ],
 "metadata": {
  "kernelspec": {
   "display_name": "malis",
   "language": "python",
   "name": "python3"
  },
  "language_info": {
   "codemirror_mode": {
    "name": "ipython",
    "version": 3
   },
   "file_extension": ".py",
   "mimetype": "text/x-python",
   "name": "python",
   "nbconvert_exporter": "python",
   "pygments_lexer": "ipython3",
   "version": "3.8.18"
  }
 },
 "nbformat": 4,
 "nbformat_minor": 2
}
