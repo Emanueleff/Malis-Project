{
 "cells": [
  {
   "cell_type": "code",
   "execution_count": 1,
   "metadata": {},
   "outputs": [],
   "source": [
    "from sklearn.datasets import load_digits\n",
    "from sklearn.model_selection import train_test_split\n",
    "from sklearn.linear_model import Perceptron as PerceptronSci\n",
    "import numpy as np\n",
    "from perceptron import Perceptron"
   ]
  },
  {
   "cell_type": "code",
   "execution_count": 2,
   "metadata": {},
   "outputs": [
    {
     "name": "stdout",
     "output_type": "stream",
     "text": [
      "(216, 64)\n",
      "(72, 64)\n",
      "(72, 64)\n"
     ]
    }
   ],
   "source": [
    "[X, y] = load_digits(n_class=2, return_X_y=True)\n",
    "\n",
    "#print(X.shape)\n",
    "#print(y.shape)\n",
    "y[y==0] = -1\n",
    "\n",
    "#Split in training and test in 60-20-20\n",
    "X_train, X_test_val, y_train, y_test_val = train_test_split(X, y, train_size=0.6, random_state=4, shuffle=True)\n",
    "X_val, X_test, y_val, y_test = train_test_split(X_test_val, y_test_val, train_size=0.5, random_state=4, shuffle=True)\n",
    "\n",
    "#check the result obtained\n",
    "print(X_train.shape)\n",
    "print(X_val.shape)\n",
    "print(X_test.shape)"
   ]
  },
  {
   "cell_type": "code",
   "execution_count": 6,
   "metadata": {},
   "outputs": [
    {
     "name": "stdout",
     "output_type": "stream",
     "text": [
      "Accuracy: 100.0\n",
      "[ 1  1  1 -1  1 -1  1  1 -1 -1  1 -1 -1 -1  1 -1 -1 -1 -1 -1  1  1  1  1\n",
      "  1 -1  1  1  1  1 -1 -1 -1 -1 -1  1 -1  1  1 -1 -1 -1 -1  1  1  1  1  1\n",
      "  1  1  1 -1  1  1 -1 -1 -1  1 -1  1  1  1  1  1 -1  1 -1  1  1 -1 -1  1]\n",
      "[ 1  1  1 -1  1 -1  1  1 -1 -1  1 -1 -1 -1  1 -1 -1 -1 -1 -1  1  1  1  1\n",
      "  1 -1  1  1  1  1 -1 -1 -1 -1 -1  1 -1  1  1 -1 -1 -1 -1  1  1  1  1  1\n",
      "  1  1  1 -1  1  1 -1 -1 -1  1 -1  1  1  1  1  1 -1  1 -1  1  1 -1 -1  1]\n",
      "[ True  True  True  True  True  True  True  True  True  True  True  True\n",
      "  True  True  True  True  True  True  True  True  True  True  True  True\n",
      "  True  True  True  True  True  True  True  True  True  True  True  True\n",
      "  True  True  True  True  True  True  True  True  True  True  True  True\n",
      "  True  True  True  True  True  True  True  True  True  True  True  True\n",
      "  True  True  True  True  True  True  True  True  True  True  True  True]\n",
      "The results are equal: True\n"
     ]
    }
   ],
   "source": [
    "alpha = 0.0001\n",
    "\n",
    "# Training our model\n",
    "model = Perceptron(alpha=alpha)\n",
    "model.train(X_train, y_train)\n",
    "\n",
    "# Prediction with our model\n",
    "y_hat = model.predict(X_val)\n",
    "#print(y_hat)\n",
    "\n",
    "# Accuracy esteem\n",
    "acc = np.sum(y_hat == y_val)/y_val.size * 100\n",
    "print(f'Accuracy: {acc}')\n",
    "\n",
    "# Training and prediction with scikit perceptron model\n",
    "example = PerceptronSci(alpha=alpha)\n",
    "example.fit(X_train,y_train)\n",
    "y_ex = example.predict(X_val)\n",
    "\n",
    "# Check the results are the same\n",
    "equal = y_ex == y_hat\n",
    "print(y_ex)\n",
    "print(y_hat)\n",
    "print(equal)\n",
    "print(f'The results are equal: {not equal[equal==False].size}')"
   ]
  },
  {
   "cell_type": "markdown",
   "metadata": {},
   "source": [
    "Testing the model with different alphas in order to find the best learning rate in terms of accuracy."
   ]
  },
  {
   "cell_type": "code",
   "execution_count": 4,
   "metadata": {},
   "outputs": [
    {
     "name": "stdout",
     "output_type": "stream",
     "text": [
      "Model Parameters: \n",
      "Initial Weights: [0.13318904 0.6851354  0.11186348 0.94175077 0.01558861 0.16602463\n",
      " 0.57959263 0.8750377  0.95239479 0.9977908  0.61109034 0.79774267\n",
      " 0.34566015 0.66547904 0.36124856 0.0134623  0.24725256 0.00453904\n",
      " 0.68101984 0.71322045 0.6042399  0.30456547 0.22099815 0.28533877\n",
      " 0.28675522 0.61027666 0.22615481 0.20469989 0.15354488 0.87331078\n",
      " 0.46346853 0.22720695 0.99973868 0.68724569 0.57879285 0.91655648\n",
      " 0.02889613 0.68237307 0.94384943 0.63154054 0.45342574 0.21814978\n",
      " 0.75032074 0.05011394 0.86641836 0.65845307 0.39210542 0.43806153\n",
      " 0.31947499 0.56502314 0.87773252 0.02725831 0.90117623 0.55447179\n",
      " 0.0271999  0.46623228 0.12763923 0.60649878 0.86591915 0.43187342\n",
      " 0.48498046 0.36338112 0.36579627 0.2349227  0.82855505]\n",
      "Current Weights: [ 4.01331890e+01  6.85135401e-01  1.11863480e-01 -2.13905825e+03\n",
      " -4.89998441e+03 -1.23983398e+03  4.10057959e+03  1.43087504e+03\n",
      "  9.52394789e-01  9.97790795e-01 -8.59388910e+02 -9.59920226e+03\n",
      " -3.89654340e+02  3.69066548e+03 -2.51963875e+03  4.90013462e+02\n",
      "  2.47252563e-01  2.00045390e+01 -2.34931898e+03 -7.34928678e+03\n",
      "  1.15106042e+04  1.38103046e+04 -4.66977900e+03 -2.65971466e+03\n",
      "  2.86755216e-01  1.06102767e+01 -3.25977385e+03 -3.61979530e+03\n",
      "  1.30101535e+04  1.45408733e+04 -2.48953653e+03 -6.00977279e+03\n",
      "  9.99738676e-01  6.87245687e-01 -4.94942121e+03 -5.60908344e+03\n",
      "  1.12100289e+04  1.44806824e+04 -2.58905615e+03 -6.62936846e+03\n",
      "  4.53425736e-01  2.18149779e-01 -3.29924968e+03 -9.77994989e+03\n",
      "  8.69086642e+03  1.26606585e+04 -4.62960789e+03 -5.46956194e+03\n",
      "  3.19474989e-01  5.65023136e-01 -8.29122267e+02 -9.80997274e+03\n",
      "  8.60901176e+02  3.42055447e+03 -4.81997280e+03  2.04662323e+01\n",
      "  7.70127639e+02  6.06498777e-01 -9.13408085e+00 -2.38956813e+03\n",
      " -5.04951502e+03 -3.49636619e+02  3.99036580e+03  3.34023492e+03\n",
      "  1.85082856e+03]\n",
      "Learning Rate: 10.0\n",
      "Accuracy of our model: 1.0\n",
      "Accuracy of scikit: 0.9861111111111112\n"
     ]
    }
   ],
   "source": [
    "from sklearn.metrics import accuracy_score\n",
    "\n",
    "alpha = 0.00001\n",
    "alpha = np.array([(0.00001 * (10 ** i)) for i in range(8)])\n",
    "datas = []\n",
    "max_acc = -1\n",
    "max_margin = -1\n",
    "initial_w = None\n",
    "#validation\n",
    "for i in alpha:\n",
    "        model = Perceptron(alpha=i)   \n",
    "        model.train(X_train, y_train, initial_w)\n",
    "        y_hat = model.predict(X_val)\n",
    "        acc = accuracy_score(y_val, y_hat)\n",
    "        margin = model.computeMargin()\n",
    "        \n",
    "        if(acc>=max_acc):\n",
    "                if(margin>max_margin):\n",
    "                        max_acc=acc\n",
    "                        max_margin=margin\n",
    "                        param = i\n",
    "                        initial_w = model.initial_weights\n",
    "\n",
    "\n",
    "best_model = Perceptron(param)\n",
    "best_model.train(X_train, y_train, initial_weights=initial_w)\n",
    "y_hat = best_model.predict(X_test)\n",
    "acc = accuracy_score(y_test, y_hat)\n",
    "\n",
    "best_model.printParams()\n",
    "\n",
    "# Training and prediction with scikit perceptron model\n",
    "example = PerceptronSci(alpha=param)\n",
    "example.fit(X_train,y_train)\n",
    "y_ex = example.predict(X_test)\n",
    "acc_ex = accuracy_score(y_test, y_ex)\n",
    "equal = y_ex == y_hat\n",
    "\n",
    "\n",
    "print(\"Accuracy of our model: \"+str(acc))\n",
    "print(\"Accuracy of scikit: \"+str(acc_ex))\n",
    "        "
   ]
  },
  {
   "cell_type": "markdown",
   "metadata": {},
   "source": [
    "Nothing heavely remarkable has been noted, but alpha too low takes a lot more time!"
   ]
  }
 ],
 "metadata": {
  "kernelspec": {
   "display_name": "malis",
   "language": "python",
   "name": "python3"
  },
  "language_info": {
   "codemirror_mode": {
    "name": "ipython",
    "version": 3
   },
   "file_extension": ".py",
   "mimetype": "text/x-python",
   "name": "python",
   "nbconvert_exporter": "python",
   "pygments_lexer": "ipython3",
   "version": "3.8.18"
  }
 },
 "nbformat": 4,
 "nbformat_minor": 2
}
